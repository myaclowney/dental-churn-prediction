{
 "cells": [
  {
   "cell_type": "markdown",
   "id": "f4dfd58e",
   "metadata": {},
   "source": [
    "# Dental Office Customer Churn Prediction\n",
    "This notebook demonstrates how to predict customer churn using logistic regression."
   ]
  },
  {
   "cell_type": "code",
   "execution_count": null,
   "id": "ad257f20",
   "metadata": {},
   "outputs": [],
   "source": [
    "import pandas as pd\n",
    "import numpy as np\n",
    "from sklearn.model_selection import train_test_split\n",
    "from sklearn.linear_model import LogisticRegression\n",
    "from sklearn.metrics import accuracy_score, confusion_matrix, classification_report\n",
    "from sklearn.utils import resample"
   ]
  },
  {
   "cell_type": "markdown",
   "id": "8b65c00a",
   "metadata": {},
   "source": [
    "# Load dataset\n",
    "df = pd.read_csv('improved_dental_dataset.csv')\n",
    "df.head()"
   ]
  },
  {
   "cell_type": "code",
   "execution_count": null,
   "id": "5261fe88",
   "metadata": {},
   "outputs": [],
   "source": [
    "# Feature Engineering\n",
    "X = df.drop(['PatientID', 'Churn', 'LastAppointmentDate'], axis=1)\n",
    "y = df['Churn']"
   ]
  },
  {
   "cell_type": "markdown",
   "id": "26bdadd9",
   "metadata": {},
   "source": [
    "# Model Training\n",
    "X_train, X_test, y_train, y_test = train_test_split(X, y, test_size=0.2, random_state=42)\n",
    "log_reg = LogisticRegression(class_weight='balanced', max_iter=1000, random_state=42)\n",
    "log_reg.fit(X_train, y_train)"
   ]
  },
  {
   "cell_type": "code",
   "execution_count": null,
   "id": "e08a7dab",
   "metadata": {},
   "outputs": [],
   "source": [
    "# Model Evaluation\n",
    "y_pred = log_reg.predict(X_test)\n",
    "accuracy = accuracy_score(y_test, y_pred)\n",
    "conf_matrix = confusion_matrix(y_test, y_pred)\n",
    "class_report = classification_report(y_test, y_pred)\n",
    "print('Accuracy:', accuracy)\n",
    "print('Confusion Matrix:\\n', conf_matrix)\n",
    "print('Classification Report:\\n', class_report)"
   ]
  }
 ],
 "metadata": {},
 "nbformat": 4,
 "nbformat_minor": 5
}
